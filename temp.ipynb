{
 "cells": [
  {
   "cell_type": "code",
   "execution_count": 1,
   "metadata": {},
   "outputs": [
    {
     "name": "stderr",
     "output_type": "stream",
     "text": [
      "100%|██████████| 824/824 [01:53<00:00,  7.24it/s]"
     ]
    },
    {
     "name": "stdout",
     "output_type": "stream",
     "text": [
      "/mnt/data2/zhangjunan/enhancement/data/SpeechEvaluationData/voicebank_demand/16k/test/noisy /mnt/data2/zhangjunan/enhancement/data/SpeechEvaluationData/voicebank_demand/16k/test/clean /mnt/data2/zhangjunan/enhancement/baseline/metricgan+/output/voicebank_demand/enhanced\n",
      "{'pesq': 3.1331981290312645, 'csig': 4.272998630556005, 'cbak': 3.044453228517545, 'covl': 3.7492112132204323, 'ssnr': -0.2542809817624966, 'stoi': 0.9320292010273055}\n"
     ]
    },
    {
     "name": "stderr",
     "output_type": "stream",
     "text": [
      "\n"
     ]
    }
   ],
   "source": [
    "from evaluate import evaluate_from_audio\n",
    "\n",
    "# evaluate_from_audio(noisy_dir, clean_dir, saved_dir, target_sr=None)\n",
    "noisy_dir = '/mnt/data2/zhangjunan/enhancement/data/SpeechEvaluationData/voicebank_demand/16k/test/noisy'\n",
    "clean_dir = '/mnt/data2/zhangjunan/enhancement/data/SpeechEvaluationData/voicebank_demand/16k/test/clean'\n",
    "saved_dir = '/mnt/data2/zhangjunan/enhancement/baseline/metricgan+/output/voicebank_demand/enhanced'\n",
    "target_sr = 16000\n",
    "evaluate_from_audio(noisy_dir, clean_dir, saved_dir, target_sr)"
   ]
  },
  {
   "cell_type": "code",
   "execution_count": 2,
   "metadata": {},
   "outputs": [
    {
     "name": "stderr",
     "output_type": "stream",
     "text": [
      "  0%|          | 0/824 [00:00<?, ?it/s]"
     ]
    },
    {
     "name": "stderr",
     "output_type": "stream",
     "text": [
      "100%|██████████| 824/824 [02:05<00:00,  6.55it/s]"
     ]
    },
    {
     "name": "stdout",
     "output_type": "stream",
     "text": [
      "/mnt/data2/zhangjunan/enhancement/data/SpeechEvaluationData/voicebank_demand/16k/test/noisy /mnt/data2/zhangjunan/enhancement/data/SpeechEvaluationData/voicebank_demand/16k/test/clean /mnt/data2/zhangjunan/enhancement/data/huawei/hw-中期交付/voicebank_demand-16k-test-noisy-20-1/enhanced\n",
      "{'pesq': 2.6706671758184157, 'csig': 3.7840316651158235, 'cbak': 3.0355002140526453, 'covl': 3.26658451434436, 'ssnr': 2.8572708124979083, 'stoi': 0.9257225005768388}\n"
     ]
    },
    {
     "name": "stderr",
     "output_type": "stream",
     "text": [
      "\n"
     ]
    }
   ],
   "source": [
    "from evaluate import evaluate_from_audio\n",
    "\n",
    "# evaluate_from_audio(noisy_dir, clean_dir, saved_dir, target_sr=None)\n",
    "noisy_dir = '/mnt/data2/zhangjunan/enhancement/data/SpeechEvaluationData/voicebank_demand/16k/test/noisy'\n",
    "clean_dir = '/mnt/data2/zhangjunan/enhancement/data/SpeechEvaluationData/voicebank_demand/16k/test/clean'\n",
    "saved_dir = '/mnt/data2/zhangjunan/enhancement/data/huawei/hw-中期交付/voicebank_demand-16k-test-noisy-20-1/enhanced'\n",
    "target_sr = 16000\n",
    "evaluate_from_audio(noisy_dir, clean_dir, saved_dir, target_sr)"
   ]
  },
  {
   "cell_type": "code",
   "execution_count": 1,
   "metadata": {},
   "outputs": [
    {
     "name": "stderr",
     "output_type": "stream",
     "text": [
      " 66%|██████▋   | 332/500 [02:01<00:52,  3.20it/s]"
     ]
    },
    {
     "name": "stdout",
     "output_type": "stream",
     "text": [
      "b'No utterances detected'\n",
      "Error in computing metrics for 332.wav\n"
     ]
    },
    {
     "name": "stderr",
     "output_type": "stream",
     "text": [
      "100%|██████████| 500/500 [03:02<00:00,  2.74it/s]"
     ]
    },
    {
     "name": "stdout",
     "output_type": "stream",
     "text": [
      "/mnt/data2/zhangjunan/enhancement/data/AnyEnhanceEvaluationData/singing-ccmusic/noisy /mnt/data2/zhangjunan/enhancement/data/AnyEnhanceEvaluationData/singing-ccmusic/clean /mnt/data2/zhangjunan/enhancement/baseline/metricgan+/output/singing-ccmusic/enhanced\n",
      "{'pesq': 1.32, 'csig': 1.608, 'cbak': 1.605, 'covl': 1.377, 'ssnr': -1.982, 'stoi': 0.405}\n"
     ]
    },
    {
     "name": "stderr",
     "output_type": "stream",
     "text": [
      "\n"
     ]
    }
   ],
   "source": [
    "from evaluate import evaluate_from_audio\n",
    "# (\"/mnt/data2/zhangjunan/enhancement/data/AnyEnhanceEvaluationData/singing-ccmusic/noisy\", \"/mnt/data2/zhangjunan/enhancement/baseline/metricgan+/output/singing-ccmusic/\", \"/mnt/data2/zhangjunan/enhancement/data/AnyEnhanceEvaluationData/singing-ccmusic/clean\"),\n",
    "noisy_dir = '/mnt/data2/zhangjunan/enhancement/data/AnyEnhanceEvaluationData/singing-ccmusic/noisy'\n",
    "clean_dir = '/mnt/data2/zhangjunan/enhancement/data/AnyEnhanceEvaluationData/singing-ccmusic/clean'\n",
    "saved_dir = '/mnt/data2/zhangjunan/enhancement/baseline/metricgan+/output/singing-ccmusic/enhanced'\n",
    "target_sr = 16000\n",
    "evaluate_from_audio(noisy_dir, clean_dir, saved_dir, target_sr)"
   ]
  },
  {
   "cell_type": "code",
   "execution_count": 2,
   "metadata": {},
   "outputs": [
    {
     "name": "stderr",
     "output_type": "stream",
     "text": [
      "  0%|          | 0/500 [00:00<?, ?it/s]"
     ]
    },
    {
     "name": "stderr",
     "output_type": "stream",
     "text": [
      " 66%|██████▋   | 332/500 [02:02<00:50,  3.31it/s]"
     ]
    },
    {
     "name": "stdout",
     "output_type": "stream",
     "text": [
      "b'No utterances detected'\n",
      "Error in computing metrics for 332.wav\n"
     ]
    },
    {
     "name": "stderr",
     "output_type": "stream",
     "text": [
      "100%|██████████| 500/500 [02:59<00:00,  2.79it/s]"
     ]
    },
    {
     "name": "stdout",
     "output_type": "stream",
     "text": [
      "/mnt/data2/zhangjunan/enhancement/data/AnyEnhanceEvaluationData/singing-ccmusic/noisy /mnt/data2/zhangjunan/enhancement/data/AnyEnhanceEvaluationData/singing-ccmusic/clean /mnt/data2/zhangjunan/enhancement/data/huawei/hw-中期交付/se-data-AnyEnhanceEvaluationData-singing-ccmusic-noisy/enhanced\n",
      "{'pesq': 2.299, 'csig': 3.29, 'cbak': 2.89, 'covl': 2.82, 'ssnr': 4.339, 'stoi': 0.671}\n"
     ]
    },
    {
     "name": "stderr",
     "output_type": "stream",
     "text": [
      "\n"
     ]
    }
   ],
   "source": [
    "from evaluate import evaluate_from_audio\n",
    "# (\"/mnt/data2/zhangjunan/enhancement/data/AnyEnhanceEvaluationData/singing-ccmusic/noisy\", \"/mnt/data2/zhangjunan/enhancement/baseline/metricgan+/output/singing-ccmusic/\", \"/mnt/data2/zhangjunan/enhancement/data/AnyEnhanceEvaluationData/singing-ccmusic/clean\"),\n",
    "noisy_dir = '/mnt/data2/zhangjunan/enhancement/data/AnyEnhanceEvaluationData/singing-ccmusic/noisy'\n",
    "clean_dir = '/mnt/data2/zhangjunan/enhancement/data/AnyEnhanceEvaluationData/singing-ccmusic/clean'\n",
    "saved_dir = '/mnt/data2/zhangjunan/enhancement/data/huawei/hw-中期交付/se-data-AnyEnhanceEvaluationData-singing-ccmusic-noisy/enhanced'\n",
    "target_sr = 16000\n",
    "evaluate_from_audio(noisy_dir, clean_dir, saved_dir, target_sr)"
   ]
  }
 ],
 "metadata": {
  "kernelspec": {
   "display_name": "maskgit",
   "language": "python",
   "name": "python3"
  },
  "language_info": {
   "codemirror_mode": {
    "name": "ipython",
    "version": 3
   },
   "file_extension": ".py",
   "mimetype": "text/x-python",
   "name": "python",
   "nbconvert_exporter": "python",
   "pygments_lexer": "ipython3",
   "version": "3.9.19"
  }
 },
 "nbformat": 4,
 "nbformat_minor": 2
}
